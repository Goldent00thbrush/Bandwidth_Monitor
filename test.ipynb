{
 "metadata": {
  "language_info": {
   "codemirror_mode": {
    "name": "ipython",
    "version": 3
   },
   "file_extension": ".py",
   "mimetype": "text/x-python",
   "name": "python",
   "nbconvert_exporter": "python",
   "pygments_lexer": "ipython3",
   "version": "3.9.5"
  },
  "orig_nbformat": 2,
  "kernelspec": {
   "name": "python395jvsc74a57bd025bf1dab56f13e21d80318cd5e789e076f92a14fa9924f370a2a818164c863f4",
   "display_name": "Python 3.9.5 64-bit"
  },
  "metadata": {
   "interpreter": {
    "hash": "25bf1dab56f13e21d80318cd5e789e076f92a14fa9924f370a2a818164c863f4"
   }
  }
 },
 "nbformat": 4,
 "nbformat_minor": 2,
 "cells": [
  {
   "cell_type": "code",
   "execution_count": 1,
   "metadata": {},
   "outputs": [],
   "source": [
    "import psutil"
   ]
  },
  {
   "cell_type": "code",
   "execution_count": 2,
   "metadata": {},
   "outputs": [],
   "source": [
    "wifi_net = psutil.net_io_counters(pernic=True)['Wi-Fi']\n",
    "#what is no wi-fi"
   ]
  },
  {
   "cell_type": "code",
   "execution_count": 3,
   "metadata": {},
   "outputs": [],
   "source": [
    "#download speed\n"
   ]
  },
  {
   "cell_type": "code",
   "execution_count": 4,
   "metadata": {},
   "outputs": [],
   "source": [
    "#upload speed"
   ]
  },
  {
   "cell_type": "code",
   "execution_count": 5,
   "metadata": {},
   "outputs": [
    {
     "output_type": "execute_result",
     "data": {
      "text/plain": [
       "snetio(bytes_sent=31046449, bytes_recv=463849853, packets_sent=251668, packets_recv=373844, errin=0, errout=0, dropin=0, dropout=0)"
      ]
     },
     "metadata": {},
     "execution_count": 5
    }
   ],
   "source": [
    "wifi_net"
   ]
  },
  {
   "cell_type": "code",
   "execution_count": 6,
   "metadata": {},
   "outputs": [],
   "source": [
    "import time \n",
    "t1= time.time()\n",
    "wifi_net_1 = psutil.net_io_counters(pernic=True)['Wi-Fi']\n"
   ]
  },
  {
   "cell_type": "code",
   "execution_count": 7,
   "metadata": {},
   "outputs": [],
   "source": [
    "# import requests\n",
    "\n",
    "# url = 'https://speed.hetzner.de/1GB.bin'\n",
    "# r = requests.get(url, allow_redirects=True)"
   ]
  },
  {
   "cell_type": "code",
   "execution_count": 8,
   "metadata": {},
   "outputs": [],
   "source": [
    "t2= time.time()\n",
    "wifi_net_2 = psutil.net_io_counters(pernic=True)['Wi-Fi']"
   ]
  },
  {
   "cell_type": "code",
   "execution_count": 9,
   "metadata": {},
   "outputs": [],
   "source": [
    "a = t2-t1"
   ]
  },
  {
   "cell_type": "code",
   "execution_count": 10,
   "metadata": {},
   "outputs": [],
   "source": [
    "b = wifi_net_2.bytes_sent - wifi_net_1.bytes_sent"
   ]
  },
  {
   "cell_type": "code",
   "execution_count": 11,
   "metadata": {},
   "outputs": [
    {
     "output_type": "execute_result",
     "data": {
      "text/plain": [
       "0.07383441925048828"
      ]
     },
     "metadata": {},
     "execution_count": 11
    }
   ],
   "source": [
    "a"
   ]
  },
  {
   "cell_type": "code",
   "execution_count": 12,
   "metadata": {},
   "outputs": [
    {
     "output_type": "execute_result",
     "data": {
      "text/plain": [
       "0.0"
      ]
     },
     "metadata": {},
     "execution_count": 12
    }
   ],
   "source": [
    "b/(a*1000)"
   ]
  },
  {
   "cell_type": "code",
   "execution_count": 43,
   "metadata": {},
   "outputs": [],
   "source": [
    "import time \n",
    "import os\n",
    "\n",
    "class network_stats:\n",
    "    def __init__(self):\n",
    "        self.last_recv_time= time.time()\n",
    "        self.last_sent_time= time.time()\n",
    "        try:\n",
    "            self.wifi_net = psutil.net_io_counters(pernic=True)['Wi-Fi']\n",
    "        except:\n",
    "            self.wifi_net = None\n",
    "    def get_wifi_net(self, num=5):\n",
    "         try:\n",
    "            self.wifi_net = psutil.net_io_counters(pernic=True)['Wi-Fi']\n",
    "            self.last_recv_time= time.time()\n",
    "            self.last_sent_time= time.time()\n",
    "         except:\n",
    "            self.wifi_net = None\n",
    "            if(num==0):\n",
    "                return \n",
    "            else:\n",
    "                self.get_wifi_net(num-1)\n",
    "    def check_conntected(self):\n",
    "        if(self.wifi_net == None):\n",
    "            self.get_wifi_net()\n",
    "            if(self.wifi_net == None):\n",
    "                return False\n",
    "        return True\n",
    "    def download_speed(self): #kbps\n",
    "        if(not self.check_conntected()):\n",
    "                return 0\n",
    "        time.sleep(0.75)\n",
    "        time_a = time.time()\n",
    "        time_diff = time.time() - self.last_recv_time\n",
    "        wifi_net_2 = psutil.net_io_counters(pernic=True)['Wi-Fi']\n",
    "        bytes_diff = wifi_net_2.bytes_recv - self.wifi_net.bytes_recv\n",
    "        self.wifi_net = wifi_net_2\n",
    "        self.last_recv_time = time_a\n",
    "        return bytes_diff/time_diff/1024 if time_diff!=0 else 0   \n",
    "    def upload_speed(self): #kbps\n",
    "        if(not self.check_conntected()):\n",
    "                return 0\n",
    "        # time.sleep(0.75)\n",
    "        time_a = time.time()\n",
    "        time_diff = time.time() - self.last_sent_time\n",
    "        wifi_net_2 = psutil.net_io_counters(pernic=True)['Wi-Fi']\n",
    "        bytes_diff = wifi_net_2.bytes_sent - self.wifi_net.bytes_sent\n",
    "        self.wifi_net = wifi_net_2\n",
    "        self.last_sent_time = time_a\n",
    "        return bytes_diff/time_diff/1024 if time_diff!=0 else 0\n",
    "    def ping_speed(self): #ms \n",
    "        hostname = '8.8.8.8'\n",
    "        time_1 = time.time()\n",
    "        response = os.system('ping -c 1 '+hostname)\n",
    "        time_2 = time.time()\n",
    "        print(response)\n",
    "        return (time_2 - time_1)*1000\n",
    "    # def download(self):\n",
    "    #     if(not self.check_conntected()):\n",
    "    #                 return 0\n",
    "    #         # time_a = time.time()\n",
    "    #     time_diff = time.time() - self.last_recv_time\n",
    "    #     wifi_net_2 = psutil.net_io_counters(pernic=True)['Wi-Fi']\n",
    "    #     bytes_diff = wifi_net_2.bytes_recv - self.wifi_net.bytes_recv\n",
    "    #     return bytes_diff/(time_diff*1000) if time_diff!=0 else 0   \n",
    "    # def download_speed(self): #kbps\n",
    "    #     sp = []\n",
    "    #     sm = 0\n",
    "    #     for i in range(10):\n",
    "    #         sp.append(self.download())\n",
    "    #         # time.sleep(2)\n",
    "    #         sm += sp[i]\n",
    "    #     sm /=10\n",
    "    #     return sm\n",
    "    # def upload(self):\n",
    "    #    if(not self.check_conntected()):\n",
    "    #             return 0\n",
    "    #    time_diff = time.time() - self.last_sent_time\n",
    "    #    wifi_net_2 = psutil.net_io_counters(pernic=True)['Wi-Fi']\n",
    "    #    bytes_diff = wifi_net_2.bytes_sent - self.wifi_net.bytes_sent\n",
    "    #    return bytes_diff/(time_diff*1000) if time_diff!=0 else 0\n",
    "    # def upload_speed(self): #kbps\n",
    "    #     sp = []\n",
    "    #     sm = 0\n",
    "    #     for i in range(10):\n",
    "    #         sp.append(self.upload())\n",
    "    #         # time.sleep(2)\n",
    "    #         sm += sp[i]\n",
    "    #     sm /=10\n",
    "    #     return sm\n",
    "    def download_upload_speed(self): #kbps\n",
    "        if(not self.check_conntected()):\n",
    "                return 0\n",
    "        i = 0\n",
    "        while i in range(10):\n",
    "            time.sleep(0.75)\n",
    "            time_a = time.time()\n",
    "            time_diff = time.time() - self.last_recv_time\n",
    "            wifi_net_2 = psutil.net_io_counters(pernic=True)['Wi-Fi']\n",
    "            bytes_diff_d = wifi_net_2.bytes_recv - self.wifi_net.bytes_recv\n",
    "            bytes_diff_u = wifi_net_2.bytes_sent - self.wifi_net.bytes_sent\n",
    "            self.wifi_net = wifi_net_2\n",
    "            self.last_recv_time = time_a\n",
    "            download = bytes_diff_d/time_diff/1024 if time_diff!=0 else 0\n",
    "            upload = bytes_diff_u/time_diff/1024 if time_diff!=0 else 0\n",
    "            if(upload !=0 or download !=0):\n",
    "                break\n",
    "        return [download, upload]"
   ]
  },
  {
   "cell_type": "code",
   "execution_count": 44,
   "metadata": {},
   "outputs": [],
   "source": [
    "s = network_stats()\n",
    "# s.download_speed()"
   ]
  },
  {
   "cell_type": "code",
   "execution_count": 45,
   "metadata": {},
   "outputs": [
    {
     "output_type": "stream",
     "name": "stdout",
     "text": [
      "2.6183433035879555\n0.0\n"
     ]
    }
   ],
   "source": [
    "print(s.download_speed())\n",
    "print(s.upload_speed())"
   ]
  },
  {
   "cell_type": "code",
   "execution_count": 46,
   "metadata": {},
   "outputs": [
    {
     "output_type": "stream",
     "name": "stdout",
     "text": [
      "[1.109363142089529, 0.648690401755252]\n",
      "[0.3237438767726341, 0.052702491567638114]\n",
      "[0.06830594258365226, 0.0695708674463125]\n",
      "[0.0, 0.2639139628699171]\n",
      "[1.2475904678494867, 1.8168428019235237]\n",
      "[7.816007699256557, 7.755535686109504]\n",
      "[0.09764553857739625, 0.10766046561097534]\n",
      "[0.1902450054696906, 0.1764772748106998]\n",
      "[1.6237627570684419, 7.5712067835452626]\n",
      "[1.463741131216584, 11.540310978733325]\n"
     ]
    }
   ],
   "source": [
    "for i in range(10):\n",
    "    print(s.download_upload_speed())"
   ]
  },
  {
   "cell_type": "code",
   "execution_count": 124,
   "metadata": {},
   "outputs": [
    {
     "output_type": "stream",
     "name": "stdout",
     "text": [
      "1\n"
     ]
    },
    {
     "output_type": "execute_result",
     "data": {
      "text/plain": [
       "57.36088752746582"
      ]
     },
     "metadata": {},
     "execution_count": 124
    }
   ],
   "source": [
    "s.ping_speed()"
   ]
  },
  {
   "cell_type": "code",
   "execution_count": 126,
   "metadata": {},
   "outputs": [],
   "source": [
    "sp = []\n",
    "sm = 0\n",
    "for i in range(20):\n",
    "    sp.append(s.download())\n",
    "    # time.sleep(2)\n",
    "    sm += sp[i]\n",
    "sm /=10"
   ]
  },
  {
   "cell_type": "code",
   "execution_count": 127,
   "metadata": {},
   "outputs": [
    {
     "output_type": "execute_result",
     "data": {
      "text/plain": [
       "[1.2051724687365246,\n",
       " 1.2050921697247796,\n",
       " 1.2050365849371065,\n",
       " 1.2049837053071046,\n",
       " 1.2049406819351054,\n",
       " 1.2048912852387372,\n",
       " 1.2048542400052433,\n",
       " 1.204810530769697,\n",
       " 1.204810530769697,\n",
       " 1.204810530769697,\n",
       " 1.2047138418480514,\n",
       " 1.2046171507401335,\n",
       " 1.2045661829077279,\n",
       " 1.2045168375625261,\n",
       " 1.2044372335492797,\n",
       " 1.2043753352752773,\n",
       " 1.2043015036897016,\n",
       " 1.2042457824463169,\n",
       " 1.2041904953782114,\n",
       " 1.2041471084854272]"
      ]
     },
     "metadata": {},
     "execution_count": 127
    }
   ],
   "source": [
    "sp"
   ]
  },
  {
   "cell_type": "code",
   "execution_count": 117,
   "metadata": {},
   "outputs": [
    {
     "output_type": "execute_result",
     "data": {
      "text/plain": [
       "1.3372311813369204"
      ]
     },
     "metadata": {},
     "execution_count": 117
    }
   ],
   "source": [
    "sm"
   ]
  },
  {
   "cell_type": "code",
   "execution_count": 49,
   "metadata": {},
   "outputs": [],
   "source": []
  },
  {
   "cell_type": "code",
   "execution_count": 137,
   "metadata": {},
   "outputs": [
    {
     "output_type": "execute_result",
     "data": {
      "text/plain": [
       "1.9453441954549426"
      ]
     },
     "metadata": {},
     "execution_count": 137
    }
   ],
   "source": [
    "import time \n",
    "t1= time.time()\n",
    "wifi_net_1 = psutil.net_io_counters(pernic=True)['Wi-Fi']\n",
    "import requests\n",
    "\n",
    "url = 'http://speedtest.tele2.net/1MB.zip'\n",
    "r = requests.get(url, allow_redirects=True)\n",
    "\n",
    "t2= time.time()\n",
    "wifi_net_2 = psutil.net_io_counters(pernic=True)['Wi-Fi']\n",
    "\n",
    "a = t2-t1\n",
    "b = wifi_net_2.bytes_sent - wifi_net_1.bytes_sent\n",
    "b/(a*1000)"
   ]
  },
  {
   "cell_type": "code",
   "execution_count": 139,
   "metadata": {},
   "outputs": [
    {
     "output_type": "execute_result",
     "data": {
      "text/plain": [
       "43824"
      ]
     },
     "metadata": {},
     "execution_count": 139
    }
   ],
   "source": [
    "b"
   ]
  },
  {
   "cell_type": "code",
   "execution_count": 3,
   "metadata": {},
   "outputs": [
    {
     "output_type": "stream",
     "name": "stdout",
     "text": [
      "UL: 0.00 kB/s \n",
      "DL: 295.54 kB/s\n",
      "UL: 15.34 kB/s \n",
      "DL: 426.24 kB/s\n",
      "UL: 21.10 kB/s \n",
      "DL: 725.47 kB/s\n",
      "UL: 13.64 kB/s \n",
      "DL: 390.46 kB/s\n",
      "UL: 8.32 kB/s \n",
      "DL: 123.42 kB/s\n",
      "UL: 0.48 kB/s \n",
      "DL: 0.79 kB/s\n",
      "UL: 1.80 kB/s \n",
      "DL: 0.87 kB/s\n",
      "UL: 1.78 kB/s \n",
      "DL: 2.25 kB/s\n",
      "UL: 0.13 kB/s \n",
      "DL: 0.69 kB/s\n",
      "UL: 0.27 kB/s \n",
      "DL: 0.26 kB/s\n",
      "UL: 0.00 kB/s \n",
      "DL: 11.68 kB/s\n",
      "UL: 0.14 kB/s \n",
      "DL: 0.50 kB/s\n",
      "UL: 6.85 kB/s \n",
      "DL: 15.34 kB/s\n",
      "UL: 6.90 kB/s \n",
      "DL: 6.27 kB/s\n",
      "UL: 18.30 kB/s \n",
      "DL: 3.76 kB/s\n",
      "UL: 0.14 kB/s \n",
      "DL: 1.81 kB/s\n",
      "UL: 0.00 kB/s \n",
      "DL: 0.22 kB/s\n",
      "UL: 0.42 kB/s \n",
      "DL: 0.59 kB/s\n"
     ]
    },
    {
     "output_type": "error",
     "ename": "KeyboardInterrupt",
     "evalue": "",
     "traceback": [
      "\u001b[1;31m---------------------------------------------------------------------------\u001b[0m",
      "\u001b[1;31mKeyboardInterrupt\u001b[0m                         Traceback (most recent call last)",
      "\u001b[1;32m<ipython-input-3-82ad4af5b22c>\u001b[0m in \u001b[0;36m<module>\u001b[1;34m\u001b[0m\n\u001b[0;32m     29\u001b[0m         \u001b[1;32mpass\u001b[0m\u001b[1;33m\u001b[0m\u001b[1;33m\u001b[0m\u001b[0m\n\u001b[0;32m     30\u001b[0m     \u001b[1;32mif\u001b[0m \u001b[0mdl\u001b[0m \u001b[1;33m>\u001b[0m \u001b[1;36m0.1\u001b[0m \u001b[1;32mor\u001b[0m \u001b[0mul\u001b[0m \u001b[1;33m>=\u001b[0m \u001b[1;36m0.1\u001b[0m\u001b[1;33m:\u001b[0m\u001b[1;33m\u001b[0m\u001b[1;33m\u001b[0m\u001b[0m\n\u001b[1;32m---> 31\u001b[1;33m         \u001b[0mtime\u001b[0m\u001b[1;33m.\u001b[0m\u001b[0msleep\u001b[0m\u001b[1;33m(\u001b[0m\u001b[1;36m0.75\u001b[0m\u001b[1;33m)\u001b[0m\u001b[1;33m\u001b[0m\u001b[1;33m\u001b[0m\u001b[0m\n\u001b[0m\u001b[0;32m     32\u001b[0m         \u001b[0mos\u001b[0m\u001b[1;33m.\u001b[0m\u001b[0msystem\u001b[0m\u001b[1;33m(\u001b[0m\u001b[1;34m\"cls\"\u001b[0m\u001b[1;33m)\u001b[0m\u001b[1;33m\u001b[0m\u001b[1;33m\u001b[0m\u001b[0m\n\u001b[0;32m     33\u001b[0m         \u001b[0mprint\u001b[0m\u001b[1;33m(\u001b[0m\u001b[1;34m\"UL: {:0.2f} kB/s \\n\"\u001b[0m\u001b[1;33m.\u001b[0m\u001b[0mformat\u001b[0m\u001b[1;33m(\u001b[0m\u001b[0mul\u001b[0m\u001b[1;33m)\u001b[0m \u001b[1;33m+\u001b[0m \u001b[1;34m\"DL: {:0.2f} kB/s\"\u001b[0m\u001b[1;33m.\u001b[0m\u001b[0mformat\u001b[0m\u001b[1;33m(\u001b[0m\u001b[0mdl\u001b[0m\u001b[1;33m)\u001b[0m\u001b[1;33m)\u001b[0m\u001b[1;33m\u001b[0m\u001b[1;33m\u001b[0m\u001b[0m\n",
      "\u001b[1;31mKeyboardInterrupt\u001b[0m: "
     ]
    }
   ],
   "source": [
    "import time\n",
    "import psutil\n",
    "import os\n",
    "\n",
    "count = 0\n",
    "qry = \"\"\n",
    "\n",
    "ul = 0.00\n",
    "dl = 0.00\n",
    "t0 = time.time()\n",
    "upload = psutil.net_io_counters(pernic=True)[\"Wi-Fi\"][0] #bytes_sent\n",
    "download = psutil.net_io_counters(pernic=True)[\"Wi-Fi\"][1] #bytes_rec\n",
    "up_down = (upload, download)\n",
    "\n",
    "\n",
    "while True:\n",
    "    last_up_down = up_down\n",
    "    upload = psutil.net_io_counters(pernic=True)[\"Wi-Fi\"][0]\n",
    "    download = psutil.net_io_counters(pernic=True)[\"Wi-Fi\"][1]\n",
    "    t1 = time.time()\n",
    "    up_down = (upload, download)\n",
    "    try:\n",
    "        ul, dl = [\n",
    "            (now - last) / (t1 - t0) / 1024.0\n",
    "            for now, last in zip(up_down, last_up_down)\n",
    "        ]\n",
    "        t0 = time.time()\n",
    "    except:\n",
    "        pass\n",
    "    if dl > 0.1 or ul >= 0.1:\n",
    "        time.sleep(0.75)\n",
    "        os.system(\"cls\")\n",
    "        print(\"UL: {:0.2f} kB/s \\n\".format(ul) + \"DL: {:0.2f} kB/s\".format(dl))\n",
    "\n",
    "v = input()"
   ]
  },
  {
   "cell_type": "code",
   "execution_count": 6,
   "metadata": {},
   "outputs": [
    {
     "output_type": "execute_result",
     "data": {
      "text/plain": [
       "snetio(bytes_sent=3228165, bytes_recv=23495306, packets_sent=17476, packets_recv=24984, errin=0, errout=0, dropin=0, dropout=0)"
      ]
     },
     "metadata": {},
     "execution_count": 6
    }
   ],
   "source": [
    "psutil.net_io_counters(pernic=True)[\"Wi-Fi\"]"
   ]
  },
  {
   "cell_type": "code",
   "execution_count": 7,
   "metadata": {},
   "outputs": [
    {
     "output_type": "error",
     "ename": "NameError",
     "evalue": "name 'now' is not defined",
     "traceback": [
      "\u001b[1;31m---------------------------------------------------------------------------\u001b[0m",
      "\u001b[1;31mNameError\u001b[0m                                 Traceback (most recent call last)",
      "\u001b[1;32m<ipython-input-7-980a93971dba>\u001b[0m in \u001b[0;36m<module>\u001b[1;34m\u001b[0m\n\u001b[1;32m----> 1\u001b[1;33m \u001b[0mnow\u001b[0m\u001b[1;33m\u001b[0m\u001b[1;33m\u001b[0m\u001b[0m\n\u001b[0m",
      "\u001b[1;31mNameError\u001b[0m: name 'now' is not defined"
     ]
    }
   ],
   "source": [
    "now"
   ]
  },
  {
   "cell_type": "code",
   "execution_count": 9,
   "metadata": {},
   "outputs": [],
   "source": []
  },
  {
   "cell_type": "code",
   "execution_count": null,
   "metadata": {},
   "outputs": [],
   "source": []
  }
 ]
}